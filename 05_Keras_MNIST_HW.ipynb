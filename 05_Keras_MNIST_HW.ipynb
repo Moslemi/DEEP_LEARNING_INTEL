{
 "cells": [
  {
   "cell_type": "markdown",
   "metadata": {},
   "source": [
    "## Handwritten Image Detection with Keras using MNIST data\n",
    "\n",
    "In this exercise we will work with image data: specifically the famous MNIST data set.  This data set contains 70,000 images of handwritten digits in grayscale (0=black, 255 = white).  The images are 28 pixels by 28 pixels for a total of 784 pixels.  This is quite small by image standards.  Also, the images are well centered and isolated.  This makes this problem solvable with standard fully connected neural nets without too much pre-work."
   ]
  },
  {
   "cell_type": "markdown",
   "metadata": {},
   "source": [
    "In the first part of this notebook, we will walk you through loading in the data, building a network, and training it.  Then it will be your turn to try different models and see if you can improve performance"
   ]
  },
  {
   "cell_type": "code",
   "execution_count": 1,
   "metadata": {},
   "outputs": [
    {
     "name": "stderr",
     "output_type": "stream",
     "text": [
      "Using TensorFlow backend.\n"
     ]
    }
   ],
   "source": [
    "# Preliminaries\n",
    "\n",
    "from __future__ import print_function\n",
    "\n",
    "import keras\n",
    "from keras.datasets import mnist\n",
    "from keras.models import Sequential\n",
    "from keras.layers import Dense, Dropout\n",
    "from keras.optimizers import RMSprop\n",
    "\n",
    "import numpy as np\n",
    "import matplotlib.pyplot as plt\n",
    "%matplotlib inline"
   ]
  },
  {
   "cell_type": "markdown",
   "metadata": {
    "collapsed": true
   },
   "source": [
    "Let's explore the dataset a little bit"
   ]
  },
  {
   "cell_type": "code",
   "execution_count": 2,
   "metadata": {},
   "outputs": [
    {
     "name": "stdout",
     "output_type": "stream",
     "text": [
      "Downloading data from https://s3.amazonaws.com/img-datasets/mnist.npz\n",
      "11493376/11490434 [==============================] - 17s 1us/step\n"
     ]
    }
   ],
   "source": [
    "# Load the data, shuffled and split between train and test sets (x_train and y_rain)\n",
    "(x_train, y_train), (x_test, y_test) = mnist.load_data()"
   ]
  },
  {
   "cell_type": "code",
   "execution_count": 3,
   "metadata": {},
   "outputs": [
    {
     "data": {
      "text/plain": [
       "(28, 28)"
      ]
     },
     "execution_count": 3,
     "metadata": {},
     "output_type": "execute_result"
    }
   ],
   "source": [
    "x_train[0].shape"
   ]
  },
  {
   "cell_type": "code",
   "execution_count": 4,
   "metadata": {},
   "outputs": [
    {
     "data": {
      "text/plain": [
       "array([[  0,   0,   0,   0,   0,   0,   0,   0,   0,   0,   0,   0,   0,\n",
       "          0,   0,   0,   0,   0,   0,   0,   0,   0,   0,   0,   0,   0,\n",
       "          0,   0],\n",
       "       [  0,   0,   0,   0,   0,   0,   0,   0,   0,   0,   0,   0,   0,\n",
       "          0,   0,   0,   0,   0,   0,   0,   0,   0,   0,   0,   0,   0,\n",
       "          0,   0],\n",
       "       [  0,   0,   0,   0,   0,   0,   0,   0,   0,   0,   0,   0,   0,\n",
       "          0,   0,   0,   0,   0,   0,   0,   0,   0,   0,   0,   0,   0,\n",
       "          0,   0],\n",
       "       [  0,   0,   0,   0,   0,   0,   0,   0,   0,   0,   0,   0,   0,\n",
       "          0,   0,   0,   0,   0,   0,   0,   0,   0,   0,   0,   0,   0,\n",
       "          0,   0],\n",
       "       [  0,   0,   0,   0,   0,   0,   0,   0,   0,   0,   0,   0,   0,\n",
       "          0,   0,   0,   0,   0,   0,   0,   0,   0,   0,   0,   0,   0,\n",
       "          0,   0],\n",
       "       [  0,   0,   0,   0,   0,   0,   0,   0,   0,   0,   0,  87, 138,\n",
       "        170, 253, 201, 244, 212, 222, 138,  86,  22,   0,   0,   0,   0,\n",
       "          0,   0],\n",
       "       [  0,   0,   0,   0,   0,   0,   0,   0,   0,   0,  95, 253, 252,\n",
       "        252, 252, 252, 253, 252, 252, 252, 252, 245,  80,   0,   0,   0,\n",
       "          0,   0],\n",
       "       [  0,   0,   0,   0,   0,   0,   0,   0,   0,  68, 246, 205,  69,\n",
       "         69,  69,  69,  69,  69,  69,  69, 205, 253, 240,  50,   0,   0,\n",
       "          0,   0],\n",
       "       [  0,   0,   0,   0,   0,   0,   0,   0,   0, 187, 252, 218,  34,\n",
       "          0,   0,   0,   0,   0,   0,   0, 116, 253, 252,  69,   0,   0,\n",
       "          0,   0],\n",
       "       [  0,   0,   0,   0,   0,   0,   0,   0, 116, 248, 252, 253,  92,\n",
       "          0,   0,   0,   0,   0,   0,  95, 230, 253, 157,   6,   0,   0,\n",
       "          0,   0],\n",
       "       [  0,   0,   0,   0,   0,   0,   0,   0, 116, 249, 253, 189,  42,\n",
       "          0,   0,   0,   0,  36, 170, 253, 243, 158,   0,   0,   0,   0,\n",
       "          0,   0],\n",
       "       [  0,   0,   0,   0,   0,   0,   0,   0,   0, 133, 252, 245, 140,\n",
       "         34,   0,   0,  57, 219, 252, 235,  60,   0,   0,   0,   0,   0,\n",
       "          0,   0],\n",
       "       [  0,   0,   0,   0,   0,   0,   0,   0,   0,  25, 205, 253, 252,\n",
       "        234, 184, 184, 253, 240, 100,  44,   0,   0,   0,   0,   0,   0,\n",
       "          0,   0],\n",
       "       [  0,   0,   0,   0,   0,   0,   0,   0,   0,   0,  21, 161, 219,\n",
       "        252, 252, 252, 234,  37,   0,   0,   0,   0,   0,   0,   0,   0,\n",
       "          0,   0],\n",
       "       [  0,   0,   0,   0,   0,   0,   0,   0,   0,   0,   0,  11, 203,\n",
       "        252, 252, 252, 251, 135,   0,   0,   0,   0,   0,   0,   0,   0,\n",
       "          0,   0],\n",
       "       [  0,   0,   0,   0,   0,   0,   0,   0,   0,   9,  76, 255, 253,\n",
       "        205, 168, 220, 255, 253, 137,   5,   0,   0,   0,   0,   0,   0,\n",
       "          0,   0],\n",
       "       [  0,   0,   0,   0,   0,   0,   0,   0,   0, 114, 252, 249, 132,\n",
       "         25,   0,   0, 180, 252, 252,  45,   0,   0,   0,   0,   0,   0,\n",
       "          0,   0],\n",
       "       [  0,   0,   0,   0,   0,   0,   0,   0,  51, 220, 252, 199,   0,\n",
       "          0,   0,   0,  38, 186, 252, 154,   7,   0,   0,   0,   0,   0,\n",
       "          0,   0],\n",
       "       [  0,   0,   0,   0,   0,   0,   0,   0, 184, 252, 252,  21,   0,\n",
       "          0,   0,   0,   0,  67, 252, 252,  22,   0,   0,   0,   0,   0,\n",
       "          0,   0],\n",
       "       [  0,   0,   0,   0,   0,   0,   0,   0, 184, 252, 200,   0,   0,\n",
       "          0,   0,   0,   0,  47, 252, 252,  22,   0,   0,   0,   0,   0,\n",
       "          0,   0],\n",
       "       [  0,   0,   0,   0,   0,   0,   0,   0, 185, 253, 201,   0,   0,\n",
       "          0,   0,   0,   3, 118, 253, 245,  21,   0,   0,   0,   0,   0,\n",
       "          0,   0],\n",
       "       [  0,   0,   0,   0,   0,   0,   0,   0, 163, 252, 252,   0,   0,\n",
       "          0,   0,   0,  97, 252, 252,  87,   0,   0,   0,   0,   0,   0,\n",
       "          0,   0],\n",
       "       [  0,   0,   0,   0,   0,   0,   0,   0,  51, 240, 252, 123,  70,\n",
       "         70, 112, 184, 222, 252, 170,  13,   0,   0,   0,   0,   0,   0,\n",
       "          0,   0],\n",
       "       [  0,   0,   0,   0,   0,   0,   0,   0,   0, 165, 252, 253, 252,\n",
       "        252, 252, 252, 245, 139,  13,   0,   0,   0,   0,   0,   0,   0,\n",
       "          0,   0],\n",
       "       [  0,   0,   0,   0,   0,   0,   0,   0,   0,   9,  75, 253, 252,\n",
       "        221, 137, 137,  21,   0,   0,   0,   0,   0,   0,   0,   0,   0,\n",
       "          0,   0],\n",
       "       [  0,   0,   0,   0,   0,   0,   0,   0,   0,   0,   0,   0,   0,\n",
       "          0,   0,   0,   0,   0,   0,   0,   0,   0,   0,   0,   0,   0,\n",
       "          0,   0],\n",
       "       [  0,   0,   0,   0,   0,   0,   0,   0,   0,   0,   0,   0,   0,\n",
       "          0,   0,   0,   0,   0,   0,   0,   0,   0,   0,   0,   0,   0,\n",
       "          0,   0],\n",
       "       [  0,   0,   0,   0,   0,   0,   0,   0,   0,   0,   0,   0,   0,\n",
       "          0,   0,   0,   0,   0,   0,   0,   0,   0,   0,   0,   0,   0,\n",
       "          0,   0]], dtype=uint8)"
      ]
     },
     "execution_count": 4,
     "metadata": {},
     "output_type": "execute_result"
    }
   ],
   "source": [
    "#Let's just look at a particular example to see what is inside\n",
    "\n",
    "x_train[333]  ## Just a 28 x 28 numpy array of ints from 0 to 255"
   ]
  },
  {
   "cell_type": "code",
   "execution_count": 5,
   "metadata": {},
   "outputs": [
    {
     "data": {
      "text/plain": [
       "8"
      ]
     },
     "execution_count": 5,
     "metadata": {},
     "output_type": "execute_result"
    }
   ],
   "source": [
    "# What is the corresponding label in the training set?\n",
    "y_train[333]"
   ]
  },
  {
   "cell_type": "code",
   "execution_count": 9,
   "metadata": {},
   "outputs": [
    {
     "data": {
      "text/plain": [
       "<matplotlib.image.AxesImage at 0xb40f52198>"
      ]
     },
     "execution_count": 9,
     "metadata": {},
     "output_type": "execute_result"
    },
    {
     "data": {
      "image/png": "[encoded data removed]",
      "text/plain": [
       "<Figure size 432x288 with 1 Axes>"
      ]
     },
     "metadata": {
      "needs_background": "light"
     },
     "output_type": "display_data"
    }
   ],
   "source": [
    "# Let's see what this image actually looks like\n",
    "\n",
    "plt.imshow(x_train[333], cmap='Greys_r')"
   ]
  },
  {
   "cell_type": "code",
   "execution_count": 10,
   "metadata": {},
   "outputs": [
    {
     "name": "stdout",
     "output_type": "stream",
     "text": [
      "(60000, 28, 28) train samples\n",
      "(10000, 28, 28) test samples\n"
     ]
    }
   ],
   "source": [
    "# this is the shape of the np.array x_train\n",
    "# it is 3 dimensional.\n",
    "print(x_train.shape, 'train samples')\n",
    "print(x_test.shape, 'test samples')"
   ]
  },
  {
   "cell_type": "code",
   "execution_count": 11,
   "metadata": {},
   "outputs": [],
   "source": [
    "## For our purposes, these images are just a vector of 784 inputs, so let's convert\n",
    "x_train = x_train.reshape(len(x_train), 28*28)   # having a 2D array instead of 3D\n",
    "x_test = x_test.reshape(len(x_test), 28*28)\n",
    "\n",
    "## Keras works with floats, so we must cast the numbers to floats\n",
    "x_train = x_train.astype('float32')\n",
    "x_test = x_test.astype('float32')\n",
    "\n",
    "## Normalize the inputs so they are between 0 and 1\n",
    "x_train /= 255\n",
    "x_test /= 255\n"
   ]
  },
  {
   "cell_type": "code",
   "execution_count": 12,
   "metadata": {},
   "outputs": [
    {
     "data": {
      "text/plain": [
       "array([0., 0., 0., 0., 0., 0., 0., 0., 1., 0.], dtype=float32)"
      ]
     },
     "execution_count": 12,
     "metadata": {},
     "output_type": "execute_result"
    }
   ],
   "source": [
    "# convert class vectors to binary class matrices\n",
    "num_classes = 10\n",
    "y_train = keras.utils.to_categorical(y_train, num_classes)\n",
    "y_test = keras.utils.to_categorical(y_test, num_classes)\n",
    "\n",
    "y_train[333]  # now the digit k is represented by a 1 in the kth entry (0-indexed) of the length 10 vector"
   ]
  },
  {
   "cell_type": "code",
   "execution_count": 14,
   "metadata": {},
   "outputs": [
    {
     "data": {
      "text/plain": [
       "(60000, 784)"
      ]
     },
     "execution_count": 14,
     "metadata": {},
     "output_type": "execute_result"
    }
   ],
   "source": [
    "x_train.shape"
   ]
  },
  {
   "cell_type": "code",
   "execution_count": 21,
   "metadata": {},
   "outputs": [],
   "source": [
    "# We will build a model with two hidden layers of size 512\n",
    "# Fully connected inputs at each layer\n",
    "# We will use dropout of .2 to help regularize\n",
    "model_1 = Sequential()\n",
    "model_1.add(Dense(512, activation='relu', input_shape=(784,)))   # input_shape : size of x_train array.\n",
    "model_1.add(Dropout(0.2))\n",
    "model_1.add(Dense(512, activation='relu'))\n",
    "model_1.add(Dropout(0.2))\n",
    "model_1.add(Dense(10, activation='softmax'))"
   ]
  },
  {
   "cell_type": "code",
   "execution_count": 22,
   "metadata": {},
   "outputs": [
    {
     "name": "stdout",
     "output_type": "stream",
     "text": [
      "_________________________________________________________________\n",
      "Layer (type)                 Output Shape              Param #   \n",
      "=================================================================\n",
      "dense_4 (Dense)              (None, 512)               401920    \n",
      "_________________________________________________________________\n",
      "dropout_3 (Dropout)          (None, 512)               0         \n",
      "_________________________________________________________________\n",
      "dense_5 (Dense)              (None, 512)               262656    \n",
      "_________________________________________________________________\n",
      "dropout_4 (Dropout)          (None, 512)               0         \n",
      "_________________________________________________________________\n",
      "dense_6 (Dense)              (None, 10)                5130      \n",
      "=================================================================\n",
      "Total params: 669,706\n",
      "Trainable params: 669,706\n",
      "Non-trainable params: 0\n",
      "_________________________________________________________________\n"
     ]
    }
   ],
   "source": [
    "## Note that this model has a LOT of parameters\n",
    "model_1.summary()"
   ]
  },
  {
   "cell_type": "code",
   "execution_count": 23,
   "metadata": {},
   "outputs": [],
   "source": [
    "# Let's compile the model\n",
    "learning_rate = .001\n",
    "model_1.compile(loss='categorical_crossentropy',\n",
    "              optimizer=RMSprop(lr=learning_rate),\n",
    "              metrics=['accuracy'])\n",
    "# note that `categorical cross entropy` is the natural generalization \n",
    "# of the loss function we had in binary classification case, to multi class case"
   ]
  },
  {
   "cell_type": "code",
   "execution_count": 24,
   "metadata": {},
   "outputs": [
    {
     "name": "stdout",
     "output_type": "stream",
     "text": [
      "Train on 60000 samples, validate on 10000 samples\n",
      "Epoch 1/30\n",
      "60000/60000 [==============================] - 9s 145us/step - loss: 0.2463 - acc: 0.9233 - val_loss: 0.0990 - val_acc: 0.9689\n",
      "Epoch 2/30\n",
      "60000/60000 [==============================] - 8s 138us/step - loss: 0.1032 - acc: 0.9689 - val_loss: 0.0805 - val_acc: 0.9762\n",
      "Epoch 3/30\n",
      "60000/60000 [==============================] - 8s 138us/step - loss: 0.0756 - acc: 0.9767 - val_loss: 0.0741 - val_acc: 0.9792\n",
      "Epoch 4/30\n",
      "60000/60000 [==============================] - 8s 138us/step - loss: 0.0608 - acc: 0.9815 - val_loss: 0.0692 - val_acc: 0.9805\n",
      "Epoch 5/30\n",
      "60000/60000 [==============================] - 8s 139us/step - loss: 0.0504 - acc: 0.9848 - val_loss: 0.0702 - val_acc: 0.9819\n",
      "Epoch 6/30\n",
      "60000/60000 [==============================] - 8s 139us/step - loss: 0.0431 - acc: 0.9872 - val_loss: 0.0678 - val_acc: 0.9822\n",
      "Epoch 7/30\n",
      "60000/60000 [==============================] - 9s 142us/step - loss: 0.0372 - acc: 0.9886 - val_loss: 0.0755 - val_acc: 0.9819\n",
      "Epoch 8/30\n",
      "60000/60000 [==============================] - 9s 144us/step - loss: 0.0347 - acc: 0.9900 - val_loss: 0.0811 - val_acc: 0.9803\n",
      "Epoch 9/30\n",
      "60000/60000 [==============================] - 8s 140us/step - loss: 0.0323 - acc: 0.9907 - val_loss: 0.0734 - val_acc: 0.9829\n",
      "Epoch 10/30\n",
      "60000/60000 [==============================] - 9s 143us/step - loss: 0.0287 - acc: 0.9915 - val_loss: 0.1015 - val_acc: 0.9805\n",
      "Epoch 11/30\n",
      "60000/60000 [==============================] - 9s 143us/step - loss: 0.0272 - acc: 0.9926 - val_loss: 0.0800 - val_acc: 0.9837\n",
      "Epoch 12/30\n",
      "60000/60000 [==============================] - 9s 142us/step - loss: 0.0253 - acc: 0.9928 - val_loss: 0.1013 - val_acc: 0.9796\n",
      "Epoch 13/30\n",
      "60000/60000 [==============================] - 8s 141us/step - loss: 0.0236 - acc: 0.9935 - val_loss: 0.0961 - val_acc: 0.9823\n",
      "Epoch 14/30\n",
      "60000/60000 [==============================] - 8s 139us/step - loss: 0.0237 - acc: 0.9938 - val_loss: 0.0938 - val_acc: 0.9808\n",
      "Epoch 15/30\n",
      "60000/60000 [==============================] - 9s 142us/step - loss: 0.0211 - acc: 0.9943 - val_loss: 0.1140 - val_acc: 0.9817\n",
      "Epoch 16/30\n",
      "60000/60000 [==============================] - 9s 142us/step - loss: 0.0207 - acc: 0.9947 - val_loss: 0.1117 - val_acc: 0.9810\n",
      "Epoch 17/30\n",
      "60000/60000 [==============================] - 9s 142us/step - loss: 0.0213 - acc: 0.9942 - val_loss: 0.0997 - val_acc: 0.9849\n",
      "Epoch 18/30\n",
      "60000/60000 [==============================] - 9s 143us/step - loss: 0.0211 - acc: 0.9946 - val_loss: 0.0961 - val_acc: 0.9849\n",
      "Epoch 19/30\n",
      "60000/60000 [==============================] - 8s 141us/step - loss: 0.0186 - acc: 0.9954 - val_loss: 0.1095 - val_acc: 0.9831\n",
      "Epoch 20/30\n",
      "60000/60000 [==============================] - 8s 140us/step - loss: 0.0176 - acc: 0.9954 - val_loss: 0.1163 - val_acc: 0.9821\n",
      "Epoch 21/30\n",
      "60000/60000 [==============================] - 8s 141us/step - loss: 0.0198 - acc: 0.9949 - val_loss: 0.1068 - val_acc: 0.9840\n",
      "Epoch 22/30\n",
      "60000/60000 [==============================] - 9s 145us/step - loss: 0.0171 - acc: 0.9958 - val_loss: 0.1185 - val_acc: 0.9818\n",
      "Epoch 23/30\n",
      "60000/60000 [==============================] - 8s 141us/step - loss: 0.0165 - acc: 0.9954 - val_loss: 0.1020 - val_acc: 0.9851\n",
      "Epoch 24/30\n",
      "60000/60000 [==============================] - 8s 140us/step - loss: 0.0179 - acc: 0.9956 - val_loss: 0.1063 - val_acc: 0.9842\n",
      "Epoch 25/30\n",
      "60000/60000 [==============================] - 8s 139us/step - loss: 0.0157 - acc: 0.9961 - val_loss: 0.1146 - val_acc: 0.9834\n",
      "Epoch 26/30\n",
      "60000/60000 [==============================] - 8s 138us/step - loss: 0.0166 - acc: 0.9959 - val_loss: 0.1217 - val_acc: 0.9835\n",
      "Epoch 27/30\n",
      "60000/60000 [==============================] - 9s 144us/step - loss: 0.0182 - acc: 0.9959 - val_loss: 0.1193 - val_acc: 0.9842\n",
      "Epoch 28/30\n",
      "60000/60000 [==============================] - 9s 142us/step - loss: 0.0164 - acc: 0.9961 - val_loss: 0.1111 - val_acc: 0.9842\n",
      "Epoch 29/30\n",
      "60000/60000 [==============================] - 8s 139us/step - loss: 0.0145 - acc: 0.9965 - val_loss: 0.1590 - val_acc: 0.9786\n",
      "Epoch 30/30\n",
      "60000/60000 [==============================] - 9s 142us/step - loss: 0.0139 - acc: 0.9966 - val_loss: 0.1270 - val_acc: 0.9837\n"
     ]
    }
   ],
   "source": [
    "# And now let's fit.\n",
    "\n",
    "batch_size = 128  # mini-batch with 128 examples\n",
    "epochs = 30\n",
    "history = model_1.fit(\n",
    "    x_train, y_train,\n",
    "    batch_size=batch_size,\n",
    "    epochs=epochs,\n",
    "    verbose=1,\n",
    "    validation_data=(x_test, y_test))"
   ]
  },
  {
   "cell_type": "code",
   "execution_count": 25,
   "metadata": {},
   "outputs": [
    {
     "name": "stdout",
     "output_type": "stream",
     "text": [
      "Test loss: 0.12701774650453318\n",
      "Test accuracy: 0.9837\n"
     ]
    }
   ],
   "source": [
    "## We will use Keras evaluate function to evaluate performance on the test set\n",
    "\n",
    "score = model_1.evaluate(x_test, y_test, verbose=0)\n",
    "print('Test loss:', score[0])\n",
    "print('Test accuracy:', score[1])"
   ]
  },
  {
   "cell_type": "code",
   "execution_count": 26,
   "metadata": {},
   "outputs": [
    {
     "data": {
      "image/png": "[encoded data removed]",
      "text/plain": [
       "<Figure size 864x432 with 2 Axes>"
      ]
     },
     "metadata": {
      "needs_background": "light"
     },
     "output_type": "display_data"
    }
   ],
   "source": [
    "def plot_loss_accuracy(history):\n",
    "    fig = plt.figure(figsize=(12, 6))\n",
    "    ax = fig.add_subplot(1, 2, 1)\n",
    "    ax.plot(history.history[\"loss\"],'r-x', label=\"Train Loss\")\n",
    "    ax.plot(history.history[\"val_loss\"],'b-x', label=\"Validation Loss\")\n",
    "    ax.legend()\n",
    "    ax.set_title('cross_entropy loss')\n",
    "    ax.grid(True)\n",
    "\n",
    "\n",
    "    ax = fig.add_subplot(1, 2, 2)\n",
    "    ax.plot(history.history[\"acc\"],'r-x', label=\"Train Accuracy\")\n",
    "    ax.plot(history.history[\"val_acc\"],'b-x', label=\"Validation Accuracy\")\n",
    "    ax.legend()\n",
    "    ax.set_title('accuracy')\n",
    "    ax.grid(True)\n",
    "    \n",
    "\n",
    "plot_loss_accuracy(history)"
   ]
  },
  {
   "cell_type": "markdown",
   "metadata": {},
   "source": [
    "This is reasonably good performance, but we can do even better!  Next you will build an even bigger network and compare the performance."
   ]
  },
  {
   "cell_type": "markdown",
   "metadata": {},
   "source": [
    "## Exercise\n",
    "### Your Turn: Build your own model\n",
    "Use the Keras \"Sequential\" functionality to build `model_2` with the following specifications:\n",
    "\n",
    "1. Two hidden layers.\n",
    "2. First hidden layer of size 400 and second of size 300\n",
    "3. Dropout of .4 at each layer\n",
    "4. How many parameters does your model have?  How does it compare with the previous model?\n",
    "4. Train this model for 20 epochs with RMSProp at a learning rate of .001 and a batch size of 128\n",
    "\n",
    "\n"
   ]
  },
  {
   "cell_type": "code",
   "execution_count": null,
   "metadata": {
    "collapsed": true
   },
   "outputs": [],
   "source": [
    "### Build your model here\n"
   ]
  },
  {
   "cell_type": "code",
   "execution_count": 27,
   "metadata": {},
   "outputs": [],
   "source": [
    "model_2 = Sequential()\n",
    "model_2.add(Dense(400, activation='relu', input_shape=(784,)))   # input_shape : size of x_train array.\n",
    "model_2.add(Dropout(0.4))\n",
    "model_2.add(Dense(300, activation='relu'))\n",
    "model_2.add(Dropout(0.4))\n",
    "model_2.add(Dense(10, activation='softmax'))"
   ]
  },
  {
   "cell_type": "code",
   "execution_count": 28,
   "metadata": {},
   "outputs": [
    {
     "name": "stdout",
     "output_type": "stream",
     "text": [
      "_________________________________________________________________\n",
      "Layer (type)                 Output Shape              Param #   \n",
      "=================================================================\n",
      "dense_7 (Dense)              (None, 400)               314000    \n",
      "_________________________________________________________________\n",
      "dropout_5 (Dropout)          (None, 400)               0         \n",
      "_________________________________________________________________\n",
      "dense_8 (Dense)              (None, 300)               120300    \n",
      "_________________________________________________________________\n",
      "dropout_6 (Dropout)          (None, 300)               0         \n",
      "_________________________________________________________________\n",
      "dense_9 (Dense)              (None, 10)                3010      \n",
      "=================================================================\n",
      "Total params: 437,310\n",
      "Trainable params: 437,310\n",
      "Non-trainable params: 0\n",
      "_________________________________________________________________\n"
     ]
    }
   ],
   "source": [
    "model_2.summary()"
   ]
  },
  {
   "cell_type": "code",
   "execution_count": 29,
   "metadata": {},
   "outputs": [],
   "source": [
    "# Let's compile the model\n",
    "learning_rate = .001\n",
    "model_2.compile(loss='categorical_crossentropy',\n",
    "              optimizer=RMSprop(lr=learning_rate),\n",
    "              metrics=['accuracy'])\n",
    "# note that `categorical cross entropy` is the natural generalization \n",
    "# of the loss function we had in binary classification case, to multi class case"
   ]
  },
  {
   "cell_type": "markdown",
   "metadata": {},
   "source": [
    "## SOLUTION"
   ]
  },
  {
   "cell_type": "code",
   "execution_count": 30,
   "metadata": {},
   "outputs": [
    {
     "name": "stdout",
     "output_type": "stream",
     "text": [
      "Train on 60000 samples, validate on 10000 samples\n",
      "Epoch 1/20\n",
      "60000/60000 [==============================] - 6s 105us/step - loss: 0.3300 - acc: 0.9005 - val_loss: 0.1247 - val_acc: 0.9624\n",
      "Epoch 2/20\n",
      "60000/60000 [==============================] - 6s 97us/step - loss: 0.1518 - acc: 0.9550 - val_loss: 0.0957 - val_acc: 0.9717\n",
      "Epoch 3/20\n",
      "60000/60000 [==============================] - 5s 89us/step - loss: 0.1192 - acc: 0.9647 - val_loss: 0.0849 - val_acc: 0.9758\n",
      "Epoch 4/20\n",
      "60000/60000 [==============================] - 5s 90us/step - loss: 0.1032 - acc: 0.9694 - val_loss: 0.0785 - val_acc: 0.9769\n",
      "Epoch 5/20\n",
      "60000/60000 [==============================] - 6s 96us/step - loss: 0.0904 - acc: 0.9740 - val_loss: 0.0815 - val_acc: 0.9783\n",
      "Epoch 6/20\n",
      "60000/60000 [==============================] - 6s 92us/step - loss: 0.0841 - acc: 0.9760 - val_loss: 0.0808 - val_acc: 0.9793\n",
      "Epoch 7/20\n",
      "60000/60000 [==============================] - 6s 93us/step - loss: 0.0772 - acc: 0.9785 - val_loss: 0.0798 - val_acc: 0.9803\n",
      "Epoch 8/20\n",
      "60000/60000 [==============================] - 6s 92us/step - loss: 0.0752 - acc: 0.9791 - val_loss: 0.0834 - val_acc: 0.9798\n",
      "Epoch 9/20\n",
      "60000/60000 [==============================] - 6s 98us/step - loss: 0.0699 - acc: 0.9806 - val_loss: 0.0860 - val_acc: 0.9810\n",
      "Epoch 10/20\n",
      "60000/60000 [==============================] - 6s 94us/step - loss: 0.0675 - acc: 0.9817 - val_loss: 0.0851 - val_acc: 0.9818\n",
      "Epoch 11/20\n",
      "60000/60000 [==============================] - 6s 99us/step - loss: 0.0641 - acc: 0.9826 - val_loss: 0.0827 - val_acc: 0.9824\n",
      "Epoch 12/20\n",
      "60000/60000 [==============================] - 6s 95us/step - loss: 0.0628 - acc: 0.9829 - val_loss: 0.0848 - val_acc: 0.9822\n",
      "Epoch 13/20\n",
      "60000/60000 [==============================] - 6s 96us/step - loss: 0.0583 - acc: 0.9843 - val_loss: 0.0843 - val_acc: 0.9815\n",
      "Epoch 14/20\n",
      "60000/60000 [==============================] - 6s 98us/step - loss: 0.0577 - acc: 0.9850 - val_loss: 0.0870 - val_acc: 0.9820\n",
      "Epoch 15/20\n",
      "60000/60000 [==============================] - 6s 98us/step - loss: 0.0573 - acc: 0.9849 - val_loss: 0.0911 - val_acc: 0.9820\n",
      "Epoch 16/20\n",
      "60000/60000 [==============================] - 6s 96us/step - loss: 0.0562 - acc: 0.9856 - val_loss: 0.0938 - val_acc: 0.9815\n",
      "Epoch 17/20\n",
      "60000/60000 [==============================] - 6s 95us/step - loss: 0.0532 - acc: 0.9860 - val_loss: 0.0903 - val_acc: 0.9824\n",
      "Epoch 18/20\n",
      "60000/60000 [==============================] - 6s 94us/step - loss: 0.0540 - acc: 0.9865 - val_loss: 0.0961 - val_acc: 0.9836\n",
      "Epoch 19/20\n",
      "60000/60000 [==============================] - 6s 95us/step - loss: 0.0509 - acc: 0.9869 - val_loss: 0.0978 - val_acc: 0.9820\n",
      "Epoch 20/20\n",
      "60000/60000 [==============================] - 6s 95us/step - loss: 0.0498 - acc: 0.9874 - val_loss: 0.1097 - val_acc: 0.9813\n"
     ]
    }
   ],
   "source": [
    "\n",
    "batch_size = 128  # mini-batch with 128 examples\n",
    "epochs = 20\n",
    "history = model_2.fit(\n",
    "    x_train, y_train,\n",
    "    batch_size=batch_size,\n",
    "    epochs=epochs,\n",
    "    verbose=1,\n",
    "    validation_data=(x_test, y_test))"
   ]
  },
  {
   "cell_type": "code",
   "execution_count": 31,
   "metadata": {},
   "outputs": [
    {
     "name": "stdout",
     "output_type": "stream",
     "text": [
      "Test loss: 0.10965830317808085\n",
      "Test accuracy: 0.9813\n"
     ]
    }
   ],
   "source": [
    "\n",
    "score = model_2.evaluate(x_test, y_test, verbose=0)\n",
    "print('Test loss:', score[0])\n",
    "print('Test accuracy:', score[1])"
   ]
  },
  {
   "cell_type": "code",
   "execution_count": 32,
   "metadata": {},
   "outputs": [
    {
     "data": {
      "image/png": "[encoded data removed]",
      "text/plain": [
       "<Figure size 864x432 with 2 Axes>"
      ]
     },
     "metadata": {
      "needs_background": "light"
     },
     "output_type": "display_data"
    }
   ],
   "source": [
    "plot_loss_accuracy(history)"
   ]
  },
  {
   "cell_type": "markdown",
   "metadata": {
    "collapsed": true
   },
   "source": [
    "## Think about the following questions\n",
    "\n",
    "1) How do model_1 and model_2 compare?  Which do you prefer?  If you were going to put one into production, which would you choose and why?\n",
    "\n",
    "2) Compare the trajectories of the loss function on the training set and test set for each model?  How do they compare?  What does that suggest about each model?  Do the same for accuracy?  Which do you think is more meaningful, the loss or the accuracy?\n",
    "\n",
    "3) Suggest an improvement to one of the models (changing structure, learning rate, number of epochs, etc.) that you think will result in a better model.  Try it out below?  Did it improve the performance?"
   ]
  },
  {
   "cell_type": "code",
   "execution_count": 41,
   "metadata": {},
   "outputs": [
    {
     "name": "stdout",
     "output_type": "stream",
     "text": [
      "_________________________________________________________________\n",
      "Layer (type)                 Output Shape              Param #   \n",
      "=================================================================\n",
      "dense_13 (Dense)             (None, 64)                50240     \n",
      "_________________________________________________________________\n",
      "dropout_9 (Dropout)          (None, 64)                0         \n",
      "_________________________________________________________________\n",
      "dense_14 (Dense)             (None, 64)                4160      \n",
      "_________________________________________________________________\n",
      "dropout_10 (Dropout)         (None, 64)                0         \n",
      "_________________________________________________________________\n",
      "dense_15 (Dense)             (None, 10)                650       \n",
      "=================================================================\n",
      "Total params: 55,050\n",
      "Trainable params: 55,050\n",
      "Non-trainable params: 0\n",
      "_________________________________________________________________\n"
     ]
    }
   ],
   "source": [
    "# My model\n",
    "\n",
    "mlp = Sequential([\n",
    "    # first hodden layer + size of input layer\n",
    "    Dense(64, input_shape=(784,), activation = 'relu'),\n",
    "    # dropout - figth with overfitting\n",
    "    Dropout(0.2),\n",
    "    # second hidden layer\n",
    "    Dense(64, activation = 'relu'),\n",
    "    Dropout(0.2),\n",
    "    # output layer\n",
    "    Dense(10, activation = 'softmax')])\n",
    "\n",
    "mlp.compile(loss = 'categorical_crossentropy', optimizer = 'adadelta', metrics = ['accuracy'])\n",
    "mlp.summary()"
   ]
  },
  {
   "cell_type": "code",
   "execution_count": 42,
   "metadata": {},
   "outputs": [],
   "source": [
    "learning_rate = .001\n",
    "mlp.compile(loss='categorical_crossentropy',\n",
    "              optimizer=RMSprop(lr=learning_rate),\n",
    "              metrics=['accuracy'])"
   ]
  },
  {
   "cell_type": "code",
   "execution_count": 43,
   "metadata": {},
   "outputs": [
    {
     "name": "stdout",
     "output_type": "stream",
     "text": [
      "Train on 60000 samples, validate on 10000 samples\n",
      "Epoch 1/30\n",
      "60000/60000 [==============================] - 2s 34us/step - loss: 0.5064 - acc: 0.8466 - val_loss: 0.2052 - val_acc: 0.9359\n",
      "Epoch 2/30\n",
      "60000/60000 [==============================] - 1s 25us/step - loss: 0.2500 - acc: 0.9255 - val_loss: 0.1502 - val_acc: 0.9550\n",
      "Epoch 3/30\n",
      "60000/60000 [==============================] - 1s 25us/step - loss: 0.1962 - acc: 0.9423 - val_loss: 0.1285 - val_acc: 0.9617\n",
      "Epoch 4/30\n",
      "60000/60000 [==============================] - 2s 25us/step - loss: 0.1691 - acc: 0.9491 - val_loss: 0.1186 - val_acc: 0.9636\n",
      "Epoch 5/30\n",
      "60000/60000 [==============================] - 2s 25us/step - loss: 0.1517 - acc: 0.9549 - val_loss: 0.1139 - val_acc: 0.9660\n",
      "Epoch 6/30\n",
      "60000/60000 [==============================] - 2s 25us/step - loss: 0.1404 - acc: 0.9579 - val_loss: 0.1071 - val_acc: 0.9682\n",
      "Epoch 7/30\n",
      "60000/60000 [==============================] - 2s 25us/step - loss: 0.1336 - acc: 0.9602 - val_loss: 0.0998 - val_acc: 0.9706\n",
      "Epoch 8/30\n",
      "60000/60000 [==============================] - 2s 25us/step - loss: 0.1271 - acc: 0.9623 - val_loss: 0.0982 - val_acc: 0.9723\n",
      "Epoch 9/30\n",
      "60000/60000 [==============================] - 2s 25us/step - loss: 0.1211 - acc: 0.9643 - val_loss: 0.1019 - val_acc: 0.9705\n",
      "Epoch 10/30\n",
      "60000/60000 [==============================] - 2s 25us/step - loss: 0.1163 - acc: 0.9645 - val_loss: 0.1003 - val_acc: 0.9723\n",
      "Epoch 11/30\n",
      "60000/60000 [==============================] - 2s 25us/step - loss: 0.1131 - acc: 0.9659 - val_loss: 0.1020 - val_acc: 0.9719\n",
      "Epoch 12/30\n",
      "60000/60000 [==============================] - 2s 26us/step - loss: 0.1068 - acc: 0.9676 - val_loss: 0.0948 - val_acc: 0.9726\n",
      "Epoch 13/30\n",
      "60000/60000 [==============================] - 2s 25us/step - loss: 0.1055 - acc: 0.9682 - val_loss: 0.0995 - val_acc: 0.9731\n",
      "Epoch 14/30\n",
      "60000/60000 [==============================] - 2s 25us/step - loss: 0.1032 - acc: 0.9694 - val_loss: 0.1004 - val_acc: 0.9731\n",
      "Epoch 15/30\n",
      "60000/60000 [==============================] - 2s 25us/step - loss: 0.1002 - acc: 0.9706 - val_loss: 0.1024 - val_acc: 0.9735\n",
      "Epoch 16/30\n",
      "60000/60000 [==============================] - 2s 25us/step - loss: 0.0964 - acc: 0.9714 - val_loss: 0.0992 - val_acc: 0.9743\n",
      "Epoch 17/30\n",
      "60000/60000 [==============================] - 2s 25us/step - loss: 0.0947 - acc: 0.9722 - val_loss: 0.1060 - val_acc: 0.9737\n",
      "Epoch 18/30\n",
      "60000/60000 [==============================] - 2s 25us/step - loss: 0.0926 - acc: 0.9718 - val_loss: 0.1054 - val_acc: 0.9724\n",
      "Epoch 19/30\n",
      "60000/60000 [==============================] - 2s 25us/step - loss: 0.0943 - acc: 0.9726 - val_loss: 0.1083 - val_acc: 0.9728\n",
      "Epoch 20/30\n",
      "60000/60000 [==============================] - 2s 25us/step - loss: 0.0908 - acc: 0.9735 - val_loss: 0.1024 - val_acc: 0.9754\n",
      "Epoch 21/30\n",
      "60000/60000 [==============================] - 2s 25us/step - loss: 0.0891 - acc: 0.9736 - val_loss: 0.1053 - val_acc: 0.9750\n",
      "Epoch 22/30\n",
      "60000/60000 [==============================] - 2s 25us/step - loss: 0.0883 - acc: 0.9740 - val_loss: 0.1060 - val_acc: 0.9747\n",
      "Epoch 23/30\n",
      "60000/60000 [==============================] - 2s 25us/step - loss: 0.0870 - acc: 0.9745 - val_loss: 0.1044 - val_acc: 0.9752\n",
      "Epoch 24/30\n",
      "60000/60000 [==============================] - 2s 25us/step - loss: 0.0852 - acc: 0.9758 - val_loss: 0.1058 - val_acc: 0.9743\n",
      "Epoch 25/30\n",
      "60000/60000 [==============================] - 2s 25us/step - loss: 0.0855 - acc: 0.9741 - val_loss: 0.1073 - val_acc: 0.9736\n",
      "Epoch 26/30\n",
      "60000/60000 [==============================] - 2s 25us/step - loss: 0.0829 - acc: 0.9752 - val_loss: 0.1148 - val_acc: 0.9740\n",
      "Epoch 27/30\n",
      "60000/60000 [==============================] - 2s 25us/step - loss: 0.0823 - acc: 0.9754 - val_loss: 0.1115 - val_acc: 0.9746\n",
      "Epoch 28/30\n",
      "60000/60000 [==============================] - 2s 25us/step - loss: 0.0819 - acc: 0.9765 - val_loss: 0.1061 - val_acc: 0.9748\n",
      "Epoch 29/30\n",
      "60000/60000 [==============================] - 2s 25us/step - loss: 0.0809 - acc: 0.9760 - val_loss: 0.1115 - val_acc: 0.9737\n",
      "Epoch 30/30\n",
      "60000/60000 [==============================] - 2s 25us/step - loss: 0.0795 - acc: 0.9770 - val_loss: 0.1132 - val_acc: 0.9748\n"
     ]
    }
   ],
   "source": [
    "\n",
    "batch_size = 128  # mini-batch with 128 examples\n",
    "epochs = 30\n",
    "history = mlp.fit(\n",
    "    x_train, y_train,\n",
    "    batch_size=batch_size,\n",
    "    epochs=epochs,\n",
    "    verbose=1,\n",
    "    validation_data=(x_test, y_test))"
   ]
  },
  {
   "cell_type": "code",
   "execution_count": 44,
   "metadata": {},
   "outputs": [
    {
     "name": "stdout",
     "output_type": "stream",
     "text": [
      "Test loss: 0.11324186062564114\n",
      "Test accuracy: 0.9748\n"
     ]
    }
   ],
   "source": [
    "\n",
    "score = mlp.evaluate(x_test, y_test, verbose=0)\n",
    "print('Test loss:', score[0])\n",
    "print('Test accuracy:', score[1])"
   ]
  },
  {
   "cell_type": "code",
   "execution_count": 45,
   "metadata": {},
   "outputs": [
    {
     "data": {
      "image/png": "[encoded data removed]",
      "text/plain": [
       "<Figure size 864x432 with 2 Axes>"
      ]
     },
     "metadata": {
      "needs_background": "light"
     },
     "output_type": "display_data"
    }
   ],
   "source": [
    "plot_loss_accuracy(history)"
   ]
  },
  {
   "cell_type": "code",
   "execution_count": null,
   "metadata": {},
   "outputs": [],
   "source": []
  }
 ],
 "metadata": {
  "kernelspec": {
   "display_name": "Python 3",
   "language": "python",
   "name": "python3"
  },
  "language_info": {
   "codemirror_mode": {
    "name": "ipython",
    "version": 3
   },
   "file_extension": ".py",
   "mimetype": "text/x-python",
   "name": "python",
   "nbconvert_exporter": "python",
   "pygments_lexer": "ipython3",
   "version": "3.7.3"
  }
 },
 "nbformat": 4,
 "nbformat_minor": 1
}
